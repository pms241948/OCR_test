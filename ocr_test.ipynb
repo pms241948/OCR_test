{
 "cells": [
  {
   "cell_type": "markdown",
   "id": "4eac7b9c",
   "metadata": {},
   "source": [
    "## 기본 import & 경로 설정"
   ]
  },
  {
   "cell_type": "code",
   "execution_count": 8,
   "id": "5361a02e",
   "metadata": {},
   "outputs": [],
   "source": [
    "import os\n",
    "import cv2\n",
    "import numpy as np\n",
    "from pdf2image import convert_from_path\n",
    "from paddleocr import PaddleOCR\n",
    "import pytesseract\n",
    "from tqdm import tqdm\n",
    "\n",
    "INPUT_DIR = \"./ex_pdf\"\n",
    "PADDLE_TXT_DIR = \"./outputs/paddle_txt\"\n",
    "TESSERACT_TXT_DIR = \"./outputs/tesseract_txt\"\n",
    "os.makedirs(PADDLE_TXT_DIR, exist_ok=True)\n",
    "os.makedirs(TESSERACT_TXT_DIR, exist_ok=True)\n",
    "\n"
   ]
  },
  {
   "cell_type": "markdown",
   "id": "f6b4c567",
   "metadata": {},
   "source": [
    "## 엔진 초기화"
   ]
  },
  {
   "cell_type": "code",
   "execution_count": null,
   "id": "99807f21",
   "metadata": {},
   "outputs": [
    {
     "name": "stderr",
     "output_type": "stream",
     "text": [
      "C:\\Users\\user\\AppData\\Local\\Temp\\ipykernel_14492\\824807376.py:2: DeprecationWarning: The parameter `use_angle_cls` has been deprecated and will be removed in the future. Please use `use_textline_orientation` instead.\n",
      "  paddle_ocr = PaddleOCR(use_angle_cls=True, lang=\"korean\")   # GPU 사용 시 use_gpu=True\n",
      "\u001b[32mCreating model: ('PP-LCNet_x1_0_doc_ori', None)\u001b[0m\n",
      "\u001b[32mUsing official model (PP-LCNet_x1_0_doc_ori), the model files will be automatically downloaded and saved in C:\\Users\\user\\.paddlex\\official_models.\u001b[0m\n",
      "Fetching 6 files: 100%|██████████| 6/6 [00:00<00:00, 6001.87it/s]\n",
      "\u001b[32mCreating model: ('UVDoc', None)\u001b[0m\n",
      "\u001b[33mThe model(UVDoc) is not supported to run in MKLDNN mode! Using `paddle` instead!\u001b[0m\n",
      "\u001b[32mUsing official model (UVDoc), the model files will be automatically downloaded and saved in C:\\Users\\user\\.paddlex\\official_models.\u001b[0m\n",
      "Fetching 6 files: 100%|██████████| 6/6 [00:00<00:00, 2999.86it/s]\n",
      "\u001b[32mCreating model: ('PP-LCNet_x1_0_textline_ori', None)\u001b[0m\n",
      "\u001b[32mUsing official model (PP-LCNet_x1_0_textline_ori), the model files will be automatically downloaded and saved in C:\\Users\\user\\.paddlex\\official_models.\u001b[0m\n",
      "Fetching 6 files: 100%|██████████| 6/6 [00:00<00:00, 2999.50it/s]\n",
      "\u001b[32mCreating model: ('PP-OCRv5_server_det', None)\u001b[0m\n",
      "\u001b[32mUsing official model (PP-OCRv5_server_det), the model files will be automatically downloaded and saved in C:\\Users\\user\\.paddlex\\official_models.\u001b[0m\n",
      "Fetching 6 files: 100%|██████████| 6/6 [00:00<00:00, 2999.14it/s]\n",
      "\u001b[32mCreating model: ('korean_PP-OCRv5_mobile_rec', None)\u001b[0m\n",
      "\u001b[32mUsing official model (korean_PP-OCRv5_mobile_rec), the model files will be automatically downloaded and saved in C:\\Users\\user\\.paddlex\\official_models.\u001b[0m\n",
      "Fetching 6 files: 100%|██████████| 6/6 [00:00<00:00, 3001.29it/s]\n"
     ]
    }
   ],
   "source": [
    "# PaddleOCR – 한국어 모델\n",
    "paddle_ocr = PaddleOCR(\n",
    "    use_angle_cls=True,\n",
    "    lang=\"korean\",\n",
    "    rec_model_dir=\"./models/korean_PP-OCRv3_rec_infer\"\n",
    ")\n",
    "\n",
    "# Tesseract – 한·영 동시\n",
    "# 윈도우 PATH 지정 필요 시: pytesseract.pytesseract.tesseract_cmd = r\"C:\\Program Files\\Tesseract-OCR\\tesseract.exe\"\n",
    "TESS_LANG = \"kor+eng\"\n",
    "TESS_CONFIG = \"--psm 6\"\n"
   ]
  },
  {
   "cell_type": "markdown",
   "id": "21bea5a2",
   "metadata": {},
   "source": [
    "## 페이지 단위 OCR 함수"
   ]
  },
  {
   "cell_type": "code",
   "execution_count": 12,
   "id": "bcf24406",
   "metadata": {},
   "outputs": [],
   "source": [
    "def ocr_paddle(pdf_path: str) -> str:\n",
    "    pages = convert_from_path(pdf_path, dpi=300)\n",
    "    lines = []\n",
    "    for pil_img in pages:\n",
    "        img_bgr = cv2.cvtColor(np.array(pil_img), cv2.COLOR_RGB2BGR)\n",
    "        result = paddle_ocr.ocr(img_bgr)\n",
    "        if result and result[0]:\n",
    "            for line in result[0]:\n",
    "                text = line[1][0]     # [1] → ['텍스트', confidence]\n",
    "                lines.append(text)\n",
    "    return \"\\n\".join(lines)\n",
    "\n",
    "\n",
    "def ocr_tesseract(pdf_path: str) -> str:\n",
    "    pages = convert_from_path(pdf_path, dpi=300)\n",
    "    lines = []\n",
    "    for pil_img in pages:\n",
    "        text = pytesseract.image_to_string(pil_img, lang=TESS_LANG, config=TESS_CONFIG)\n",
    "        lines.append(text)\n",
    "    return \"\\n\".join(lines)\n",
    "\n"
   ]
  },
  {
   "cell_type": "markdown",
   "id": "02652b7b",
   "metadata": {},
   "source": [
    "## 전체 PDF 일괄 처리"
   ]
  },
  {
   "cell_type": "code",
   "execution_count": 13,
   "id": "533f971e",
   "metadata": {},
   "outputs": [
    {
     "name": "stderr",
     "output_type": "stream",
     "text": [
      "Processing PDFs:   0%|          | 0/3 [00:00<?, ?it/s]C:\\Users\\user\\AppData\\Local\\Temp\\ipykernel_14492\\1912076181.py:6: DeprecationWarning: Please use `predict` instead.\n",
      "  result = paddle_ocr.ocr(img_bgr)\n",
      "Processing PDFs: 100%|██████████| 3/3 [01:13<00:00, 24.62s/it]\n"
     ]
    }
   ],
   "source": [
    "pdf_files = [f for f in os.listdir(INPUT_DIR) if f.lower().endswith(\".pdf\")]\n",
    "\n",
    "for pdf in tqdm(pdf_files, desc=\"Processing PDFs\"):\n",
    "    stem = os.path.splitext(pdf)[0]\n",
    "    path = os.path.join(INPUT_DIR, pdf)\n",
    "\n",
    "    # PaddleOCR\n",
    "    paddle_txt = ocr_paddle(path)\n",
    "    with open(os.path.join(PADDLE_TXT_DIR, f\"{stem}.txt\"), \"w\", encoding=\"utf-8\") as f:\n",
    "        f.write(paddle_txt)\n",
    "\n",
    "    # Tesseract\n",
    "    tess_txt = ocr_tesseract(path)\n",
    "    with open(os.path.join(TESSERACT_TXT_DIR, f\"{stem}.txt\"), \"w\", encoding=\"utf-8\") as f:\n",
    "        f.write(tess_txt)\n",
    "\n"
   ]
  },
  {
   "cell_type": "code",
   "execution_count": null,
   "id": "528fd86a",
   "metadata": {},
   "outputs": [],
   "source": []
  },
  {
   "cell_type": "code",
   "execution_count": null,
   "id": "be6474e8",
   "metadata": {},
   "outputs": [],
   "source": []
  },
  {
   "cell_type": "code",
   "execution_count": null,
   "id": "7556a8f3",
   "metadata": {},
   "outputs": [],
   "source": []
  }
 ],
 "metadata": {
  "kernelspec": {
   "display_name": "ocr_test",
   "language": "python",
   "name": "python3"
  },
  "language_info": {
   "codemirror_mode": {
    "name": "ipython",
    "version": 3
   },
   "file_extension": ".py",
   "mimetype": "text/x-python",
   "name": "python",
   "nbconvert_exporter": "python",
   "pygments_lexer": "ipython3",
   "version": "3.10.18"
  }
 },
 "nbformat": 4,
 "nbformat_minor": 5
}
